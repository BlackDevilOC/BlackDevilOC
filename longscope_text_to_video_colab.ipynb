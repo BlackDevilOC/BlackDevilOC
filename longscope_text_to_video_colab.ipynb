{
  "cells": [
    {
      "cell_type": "markdown",
      "metadata": {
        "id": "view-in-github",
        "colab_type": "text"
      },
      "source": [
        "<a href=\"https://colab.research.google.com/github/BlackDevilOC/BlackDevilOC/blob/main/longscope_text_to_video_colab.ipynb\" target=\"_parent\"><img src=\"https://colab.research.google.com/assets/colab-badge.svg\" alt=\"Open In Colab\"/></a>"
      ]
    },
    {
      "cell_type": "code",
      "execution_count": null,
      "metadata": {
        "id": "n2ibl97e2yM4"
      },
      "outputs": [],
      "source": [
        "%cd /content\n",
        "!pip install diffusers==0.19.0 transformers accelerate imageio[ffmpeg] -U einops omegaconf decord safetensors\n",
        "!pip install -q https://download.pytorch.org/whl/cu121/xformers-0.0.22.post7-cp310-cp310-manylinux2014_x86_64.whl\n",
        "!git clone -b dev https://github.com/camenduru/Text-To-Video-Finetuning\n",
        "\n",
        "!apt -y install -qq aria2\n",
        "model = \"polyware-ai/longscope\"\n",
        "!aria2c --console-log-level=error -c -x 16 -s 16 -k 1M https://huggingface.co/{model}/raw/main/model_index.json -d /content/model -o model_index.json\n",
        "!aria2c --console-log-level=error -c -x 16 -s 16 -k 1M https://huggingface.co/{model}/raw/main/vae/config.json -d /content/model/vae -o config.json\n",
        "!aria2c --console-log-level=error -c -x 16 -s 16 -k 1M https://huggingface.co/{model}/resolve/main/vae/diffusion_pytorch_model.bin -d /content/model/vae -o diffusion_pytorch_model.bin\n",
        "!aria2c --console-log-level=error -c -x 16 -s 16 -k 1M https://huggingface.co/{model}/raw/main/unet/config.json -d /content/model/unet -o config.json\n",
        "!aria2c --console-log-level=error -c -x 16 -s 16 -k 1M https://huggingface.co/{model}/resolve/main/unet/diffusion_pytorch_model.bin -d /content/model/unet -o diffusion_pytorch_model.bin\n",
        "!aria2c --console-log-level=error -c -x 16 -s 16 -k 1M https://huggingface.co/{model}/raw/main/text_encoder/config.json -d /content/model/text_encoder -o config.json\n",
        "!aria2c --console-log-level=error -c -x 16 -s 16 -k 1M https://huggingface.co/{model}/resolve/main/text_encoder/pytorch_model.bin -d /content/model/text_encoder -o pytorch_model.bin\n",
        "!aria2c --console-log-level=error -c -x 16 -s 16 -k 1M https://huggingface.co/{model}/raw/main/scheduler/scheduler_config.json -d /content/model/scheduler -o scheduler_config.json\n",
        "!aria2c --console-log-level=error -c -x 16 -s 16 -k 1M https://huggingface.co/{model}/raw/main/tokenizer/merges.txt -d /content/model/tokenizer -o merges.txt\n",
        "!aria2c --console-log-level=error -c -x 16 -s 16 -k 1M https://huggingface.co/{model}/raw/main/tokenizer/special_tokens_map.json -d /content/model/tokenizer -o special_tokens_map.json\n",
        "!aria2c --console-log-level=error -c -x 16 -s 16 -k 1M https://huggingface.co/{model}/raw/main/tokenizer/tokenizer_config.json -d /content/model/tokenizer -o tokenizer_config.json\n",
        "!aria2c --console-log-level=error -c -x 16 -s 16 -k 1M https://huggingface.co/{model}/raw/main/tokenizer/vocab.json -d /content/model/tokenizer -o vocab.json"
      ]
    },
    {
      "cell_type": "code",
      "execution_count": null,
      "metadata": {
        "id": "cqo7g4p2_V78"
      },
      "outputs": [],
      "source": [
        "# Change directory to your project folder\n",
        "%cd /content/Text-To-Video-Finetuning\n",
        "\n",
        "# Define parameters\n",
        "prompt = \"waterfall\"  #@param {type:\"string\"}\n",
        "negative = \"text, watermark, copyright, blurry, low resolution, blur, low quality\"  #@param {type:\"string\"}\n",
        "\n",
        "# Wrap in quotes for shell compatibility\n",
        "prompt = f'\"{prompt}\"'\n",
        "negative = f'\"{negative}\"'\n",
        "\n",
        "# Model parameters\n",
        "num_steps = 25  #@param {type:\"raw\"}\n",
        "guidance_scale = 23  #@param {type:\"raw\"}\n",
        "fps = 24  #@param {type:\"raw\"}\n",
        "num_frames = 96  #@param {type:\"raw\"}\n",
        "\n",
        "# Compose the command properly with all arguments quoted\n",
        "command = f'''\n",
        "python inference.py \\\n",
        "  -m \"/content/model\" \\\n",
        "  -p {prompt} \\\n",
        "  -n {negative} \\\n",
        "  -W 384 \\\n",
        "  -H 216 \\\n",
        "  -o \"/content/outputs\" \\\n",
        "  -d cuda \\\n",
        "  -x \\\n",
        "  -s {num_steps} \\\n",
        "  -g\n"
      ]
    }
  ],
  "metadata": {
    "accelerator": "GPU",
    "colab": {
      "provenance": [],
      "include_colab_link": true
    },
    "gpuClass": "standard",
    "kernelspec": {
      "display_name": "Python 3",
      "name": "python3"
    },
    "language_info": {
      "name": "python"
    }
  },
  "nbformat": 4,
  "nbformat_minor": 0
}